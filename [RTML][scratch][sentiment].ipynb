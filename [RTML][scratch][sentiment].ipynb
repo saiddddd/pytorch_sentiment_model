{
  "nbformat": 4,
  "nbformat_minor": 0,
  "metadata": {
    "colab": {
      "provenance": []
    },
    "kernelspec": {
      "name": "python3",
      "display_name": "Python 3"
    },
    "language_info": {
      "name": "python"
    }
  },
  "cells": [
    {
      "cell_type": "markdown",
      "source": [
        "# Get Dataset"
      ],
      "metadata": {
        "id": "0nw-3K9foc83"
      }
    },
    {
      "cell_type": "code",
      "execution_count": 1,
      "metadata": {
        "colab": {
          "base_uri": "https://localhost:8080/"
        },
        "id": "vnCdy6sYmDN2",
        "outputId": "5ed7aeb2-49bd-47b4-a536-ddf61583cf69"
      },
      "outputs": [
        {
          "output_type": "stream",
          "name": "stdout",
          "text": [
            "Requirement already satisfied: gdown in /usr/local/lib/python3.10/dist-packages (4.7.3)\n",
            "Collecting gdown\n",
            "  Downloading gdown-5.1.0-py3-none-any.whl (17 kB)\n",
            "Requirement already satisfied: beautifulsoup4 in /usr/local/lib/python3.10/dist-packages (from gdown) (4.12.3)\n",
            "Requirement already satisfied: filelock in /usr/local/lib/python3.10/dist-packages (from gdown) (3.13.1)\n",
            "Requirement already satisfied: requests[socks] in /usr/local/lib/python3.10/dist-packages (from gdown) (2.31.0)\n",
            "Requirement already satisfied: tqdm in /usr/local/lib/python3.10/dist-packages (from gdown) (4.66.1)\n",
            "Requirement already satisfied: soupsieve>1.2 in /usr/local/lib/python3.10/dist-packages (from beautifulsoup4->gdown) (2.5)\n",
            "Requirement already satisfied: charset-normalizer<4,>=2 in /usr/local/lib/python3.10/dist-packages (from requests[socks]->gdown) (3.3.2)\n",
            "Requirement already satisfied: idna<4,>=2.5 in /usr/local/lib/python3.10/dist-packages (from requests[socks]->gdown) (3.6)\n",
            "Requirement already satisfied: urllib3<3,>=1.21.1 in /usr/local/lib/python3.10/dist-packages (from requests[socks]->gdown) (2.0.7)\n",
            "Requirement already satisfied: certifi>=2017.4.17 in /usr/local/lib/python3.10/dist-packages (from requests[socks]->gdown) (2024.2.2)\n",
            "Requirement already satisfied: PySocks!=1.5.7,>=1.5.6 in /usr/local/lib/python3.10/dist-packages (from requests[socks]->gdown) (1.7.1)\n",
            "Installing collected packages: gdown\n",
            "  Attempting uninstall: gdown\n",
            "    Found existing installation: gdown 4.7.3\n",
            "    Uninstalling gdown-4.7.3:\n",
            "      Successfully uninstalled gdown-4.7.3\n",
            "Successfully installed gdown-5.1.0\n",
            "Downloading...\n",
            "From: https://drive.google.com/uc?id=1jCFc3dWPflO7HvVcvGoCQWnVrammEQOd\n",
            "To: /content/spam-dataset.zip\n",
            "100% 1.05M/1.05M [00:00<00:00, 103MB/s]\n",
            "Archive:  /content/spam-dataset.zip\n",
            "   creating: spam-dataset/\n",
            "  inflating: __MACOSX/._spam-dataset  \n",
            "  inflating: spam-dataset/test.csv   \n",
            "  inflating: __MACOSX/spam-dataset/._test.csv  \n",
            "  inflating: spam-dataset/train.csv  \n",
            "  inflating: __MACOSX/spam-dataset/._train.csv  \n"
          ]
        }
      ],
      "source": [
        "!pip install -U --no-cache-dir gdown --pre\n",
        "!gdown 1jCFc3dWPflO7HvVcvGoCQWnVrammEQOd\n",
        "!unzip \"/content/spam-dataset.zip\""
      ]
    },
    {
      "cell_type": "markdown",
      "source": [
        "# Import Necessary Libraries"
      ],
      "metadata": {
        "id": "ZtvnOpJAoo68"
      }
    },
    {
      "cell_type": "code",
      "source": [
        "import pandas as pd\n",
        "import numpy as np\n",
        "import torch\n",
        "import torch.nn as nn\n",
        "import torch.optim as optim\n",
        "import matplotlib.pyplot as plt\n",
        "from sklearn.model_selection import train_test_split\n",
        "from sklearn.feature_extraction.text import CountVectorizer\n",
        "from sklearn.preprocessing import LabelEncoder\n",
        "from sklearn.metrics import accuracy_score, precision_score, recall_score, f1_score, confusion_matrix"
      ],
      "metadata": {
        "id": "-ff_SaSxomH8"
      },
      "execution_count": 2,
      "outputs": []
    },
    {
      "cell_type": "markdown",
      "source": [
        "# Load and Preprocess Dataset"
      ],
      "metadata": {
        "id": "an8Bx6YSo4MA"
      }
    },
    {
      "cell_type": "code",
      "source": [
        "df_train = pd.read_csv('/content/spam-dataset/train.csv', header=None)\n",
        "df_train.columns = ['msg', 'spam']\n",
        "df_test = pd.read_csv('/content/spam-dataset/test.csv', header=None)\n",
        "df_test.columns = ['msg', 'spam']\n",
        "\n",
        "# Preprocess the data\n",
        "df_train['msg'] = df_train['msg'].apply(lambda x: x.lower())\n",
        "df_test['msg'] = df_test['msg'].apply(lambda x: x.lower())\n",
        "\n",
        "# Concatenate train and test sets\n",
        "df = pd.concat([df_test, df_train], ignore_index=True)"
      ],
      "metadata": {
        "id": "MKATdiDnomKX"
      },
      "execution_count": 3,
      "outputs": []
    },
    {
      "cell_type": "code",
      "source": [
        "# Split the dataset into train, test, and validation sets\n",
        "X_train, X_test, y_train, y_test = train_test_split(df['msg'], df['spam'], test_size=0.2, random_state=42)\n",
        "X_train, X_val, y_train, y_val = train_test_split(X_train, y_train, test_size=0.1, random_state=42)"
      ],
      "metadata": {
        "id": "jeWAHDy0omMk"
      },
      "execution_count": 4,
      "outputs": []
    },
    {
      "cell_type": "code",
      "source": [
        "# Encode the text data\n",
        "vectorizer = CountVectorizer()\n",
        "X_train_vectorized = vectorizer.fit_transform(X_train).toarray()\n",
        "X_val_vectorized = vectorizer.transform(X_val).toarray()\n",
        "X_test_vectorized = vectorizer.transform(X_test).toarray()"
      ],
      "metadata": {
        "id": "pIkIJb_romQF"
      },
      "execution_count": 5,
      "outputs": []
    },
    {
      "cell_type": "code",
      "source": [
        "# Encode the target labels\n",
        "label_encoder = LabelEncoder()\n",
        "y_train_encoded = label_encoder.fit_transform(y_train)\n",
        "y_val_encoded = label_encoder.transform(y_val)\n",
        "y_test_encoded = label_encoder.transform(y_test)"
      ],
      "metadata": {
        "id": "O1mB_og8mIR0"
      },
      "execution_count": 6,
      "outputs": []
    },
    {
      "cell_type": "code",
      "source": [
        "# Convert data to PyTorch tensors\n",
        "X_train_tensor = torch.tensor(X_train_vectorized, dtype=torch.float32)\n",
        "y_train_tensor = torch.tensor(y_train_encoded, dtype=torch.float32)\n",
        "X_val_tensor = torch.tensor(X_val_vectorized, dtype=torch.float32)\n",
        "y_val_tensor = torch.tensor(y_val_encoded, dtype=torch.float32)\n",
        "X_test_tensor = torch.tensor(X_test_vectorized, dtype=torch.float32)\n",
        "y_test_tensor = torch.tensor(y_test_encoded, dtype=torch.float32)"
      ],
      "metadata": {
        "id": "mfSHPz26mIUg"
      },
      "execution_count": 7,
      "outputs": []
    },
    {
      "cell_type": "markdown",
      "source": [
        "# Define Neural Network Model"
      ],
      "metadata": {
        "id": "ktWGnT4Vpch5"
      }
    },
    {
      "cell_type": "code",
      "source": [
        "class SpamClassifier(nn.Module):\n",
        "    def __init__(self, input_size, hidden_size, output_size):\n",
        "        super(SpamClassifier, self).__init__()\n",
        "        self.fc1 = nn.Linear(input_size, hidden_size)\n",
        "        self.relu = nn.ReLU()\n",
        "        self.fc2 = nn.Linear(hidden_size, output_size)\n",
        "        self.sigmoid = nn.Sigmoid()\n",
        "\n",
        "    def forward(self, x):\n",
        "        out = self.fc1(x)\n",
        "        out = self.relu(out)\n",
        "        out = self.fc2(out)\n",
        "        out = self.sigmoid(out)\n",
        "        return out"
      ],
      "metadata": {
        "id": "GKCb6hespbyL"
      },
      "execution_count": 8,
      "outputs": []
    },
    {
      "cell_type": "markdown",
      "source": [
        "# Initialize the model, loss function, and optimizer"
      ],
      "metadata": {
        "id": "A5TEvnoPpsiW"
      }
    },
    {
      "cell_type": "code",
      "source": [
        "input_size = X_train_tensor.shape[1]\n",
        "output_size = 1  # Binary classification (spam or not spam)\n",
        "hidden_size = 64\n",
        "model = SpamClassifier(input_size, hidden_size, output_size)\n",
        "criterion = nn.BCELoss()\n",
        "optimizer = optim.Adam(model.parameters(), lr=0.001)"
      ],
      "metadata": {
        "id": "D2KvzTPbmIXE"
      },
      "execution_count": 9,
      "outputs": []
    },
    {
      "cell_type": "markdown",
      "source": [
        "# Model Training"
      ],
      "metadata": {
        "id": "6OT-mMlqpz9M"
      }
    },
    {
      "cell_type": "code",
      "source": [
        "num_epochs = 5\n",
        "batch_size = 32\n",
        "train_losses = []\n",
        "val_losses = []\n",
        "val_accuracies = []\n",
        "\n",
        "for epoch in range(num_epochs):\n",
        "    for i in range(0, X_train_tensor.shape[0], batch_size):\n",
        "        inputs = X_train_tensor[i:i+batch_size]\n",
        "        targets = y_train_tensor[i:i+batch_size]\n",
        "\n",
        "        optimizer.zero_grad()\n",
        "        outputs = model(inputs)\n",
        "        loss = criterion(outputs, targets.view(-1, 1))\n",
        "        loss.backward()\n",
        "        optimizer.step()\n",
        "\n",
        "    # Validate the model\n",
        "    with torch.no_grad():\n",
        "        val_outputs = model(X_val_tensor)\n",
        "        val_loss = criterion(val_outputs, y_val_tensor.view(-1, 1))\n",
        "        val_preds = (val_outputs > 0.5).float()\n",
        "        val_accuracy = accuracy_score(y_val_tensor.numpy(), val_preds.numpy())\n",
        "\n",
        "    train_losses.append(loss.item())\n",
        "    val_losses.append(val_loss.item())\n",
        "    val_accuracies.append(val_accuracy)\n",
        "\n",
        "    print(f'Epoch [{epoch+1}/{num_epochs}], Loss: {loss.item():.4f}, Val Loss: {val_loss.item():.4f}, Val Accuracy: {val_accuracy:.4f}')"
      ],
      "metadata": {
        "colab": {
          "base_uri": "https://localhost:8080/"
        },
        "id": "OQZ67Gv2p2As",
        "outputId": "8bbbcb65-9b36-4250-bab7-3aa656258856"
      },
      "execution_count": 10,
      "outputs": [
        {
          "output_type": "stream",
          "name": "stdout",
          "text": [
            "Epoch [1/5], Loss: 0.1233, Val Loss: 0.1132, Val Accuracy: 0.9783\n",
            "Epoch [2/5], Loss: 0.0287, Val Loss: 0.0785, Val Accuracy: 0.9831\n",
            "Epoch [3/5], Loss: 0.0112, Val Loss: 0.0825, Val Accuracy: 0.9807\n",
            "Epoch [4/5], Loss: 0.0058, Val Loss: 0.2935, Val Accuracy: 0.9807\n",
            "Epoch [5/5], Loss: 0.0036, Val Loss: 0.2995, Val Accuracy: 0.9807\n"
          ]
        }
      ]
    },
    {
      "cell_type": "code",
      "source": [
        "# Plot the training and validation losses\n",
        "plt.figure(figsize=(10, 5))\n",
        "plt.plot(train_losses, label='Train Loss')\n",
        "plt.plot(val_losses, label='Validation Loss')\n",
        "plt.xlabel('Epoch')\n",
        "plt.ylabel('Loss')\n",
        "plt.title('Training and Validation Loss')\n",
        "plt.legend()\n",
        "plt.show()"
      ],
      "metadata": {
        "colab": {
          "base_uri": "https://localhost:8080/",
          "height": 487
        },
        "id": "wf6cXqCUmIZv",
        "outputId": "924fadbd-3a90-406f-b8f0-85febb5df4c9"
      },
      "execution_count": 11,
      "outputs": [
        {
          "output_type": "display_data",
          "data": {
            "text/plain": [
              "<Figure size 1000x500 with 1 Axes>"
            ],
            "image/png": "[encoded data removed]"
          },
          "metadata": {}
        }
      ]
    },
    {
      "cell_type": "code",
      "source": [
        "# Plot the validation accuracy\n",
        "plt.figure(figsize=(10, 5))\n",
        "plt.plot(val_accuracies, label='Validation Accuracy', color='green')\n",
        "plt.xlabel('Epoch')\n",
        "plt.ylabel('Accuracy')\n",
        "plt.title('Validation Accuracy')\n",
        "plt.legend()\n",
        "plt.show()"
      ],
      "metadata": {
        "colab": {
          "base_uri": "https://localhost:8080/",
          "height": 487
        },
        "id": "BIMf8x3kmIcS",
        "outputId": "c172e87c-185a-4b4e-a303-f09c4562fc9d"
      },
      "execution_count": 12,
      "outputs": [
        {
          "output_type": "display_data",
          "data": {
            "text/plain": [
              "<Figure size 1000x500 with 1 Axes>"
            ],
            "image/png": "[encoded data removed]"
          },
          "metadata": {}
        }
      ]
    },
    {
      "cell_type": "markdown",
      "source": [
        "# Model Evaluation"
      ],
      "metadata": {
        "id": "fNM9xLUlqQC5"
      }
    },
    {
      "cell_type": "code",
      "source": [
        "with torch.no_grad():\n",
        "    test_outputs = model(X_test_tensor)\n",
        "    test_preds = (test_outputs > 0.5).float()\n",
        "    test_accuracy = accuracy_score(y_test_tensor.numpy(), test_preds.numpy())\n",
        "    test_precision = precision_score(y_test_tensor.numpy(), test_preds.numpy())\n",
        "    test_recall = recall_score(y_test_tensor.numpy(), test_preds.numpy())\n",
        "    test_f1 = f1_score(y_test_tensor.numpy(), test_preds.numpy())\n",
        "    test_confusion_matrix = confusion_matrix(y_test_tensor.numpy(), test_preds.numpy())\n",
        "\n",
        "print(f'Test Accuracy: {test_accuracy:.4f}')\n",
        "print(f'Test Precision: {test_precision:.4f}')\n",
        "print(f'Test Recall: {test_recall:.4f}')\n",
        "print(f'Test F1 Score: {test_f1:.4f}')\n",
        "print('Test Confusion Matrix:')\n",
        "print(test_confusion_matrix)"
      ],
      "metadata": {
        "colab": {
          "base_uri": "https://localhost:8080/"
        },
        "id": "iU0fuF68mIe4",
        "outputId": "9da698b5-813e-4765-d2ff-034464884c1e"
      },
      "execution_count": 13,
      "outputs": [
        {
          "output_type": "stream",
          "name": "stdout",
          "text": [
            "Test Accuracy: 0.9836\n",
            "Test Precision: 0.9578\n",
            "Test Recall: 0.9866\n",
            "Test F1 Score: 0.9720\n",
            "Test Confusion Matrix:\n",
            "[[723  13]\n",
            " [  4 295]]\n"
          ]
        }
      ]
    },
    {
      "cell_type": "code",
      "source": [],
      "metadata": {
        "id": "kNukRYxqmIiI"
      },
      "execution_count": null,
      "outputs": []
    },
    {
      "cell_type": "code",
      "source": [],
      "metadata": {
        "id": "mwd98JQ8mIkz"
      },
      "execution_count": null,
      "outputs": []
    },
    {
      "cell_type": "code",
      "source": [],
      "metadata": {
        "id": "Qez3vlg2mImu"
      },
      "execution_count": null,
      "outputs": []
    },
    {
      "cell_type": "code",
      "source": [],
      "metadata": {
        "id": "sp-sfURMmIpW"
      },
      "execution_count": null,
      "outputs": []
    },
    {
      "cell_type": "code",
      "source": [],
      "metadata": {
        "id": "MeKZfGkemIs9"
      },
      "execution_count": null,
      "outputs": []
    },
    {
      "cell_type": "code",
      "source": [],
      "metadata": {
        "id": "IdCoEnfEmI1n"
      },
      "execution_count": null,
      "outputs": []
    },
    {
      "cell_type": "code",
      "source": [],
      "metadata": {
        "id": "OvWRt71amI4J"
      },
      "execution_count": null,
      "outputs": []
    },
    {
      "cell_type": "code",
      "source": [],
      "metadata": {
        "id": "mls-LubmmI6z"
      },
      "execution_count": null,
      "outputs": []
    },
    {
      "cell_type": "code",
      "source": [],
      "metadata": {
        "id": "XaPa5oC3mI9o"
      },
      "execution_count": null,
      "outputs": []
    },
    {
      "cell_type": "code",
      "source": [],
      "metadata": {
        "id": "Byi5-ZVemI__"
      },
      "execution_count": null,
      "outputs": []
    },
    {
      "cell_type": "code",
      "source": [],
      "metadata": {
        "id": "_SdO2FPkmJCq"
      },
      "execution_count": null,
      "outputs": []
    },
    {
      "cell_type": "code",
      "source": [],
      "metadata": {
        "id": "weHUHL3NmJFb"
      },
      "execution_count": null,
      "outputs": []
    },
    {
      "cell_type": "code",
      "source": [],
      "metadata": {
        "id": "72_0ESSymJH5"
      },
      "execution_count": null,
      "outputs": []
    },
    {
      "cell_type": "code",
      "source": [],
      "metadata": {
        "id": "A1ezFNDomJKY"
      },
      "execution_count": null,
      "outputs": []
    },
    {
      "cell_type": "code",
      "source": [],
      "metadata": {
        "id": "SGxWE9xBmJNB"
      },
      "execution_count": null,
      "outputs": []
    },
    {
      "cell_type": "code",
      "source": [],
      "metadata": {
        "id": "WXvlSoosmJPy"
      },
      "execution_count": null,
      "outputs": []
    },
    {
      "cell_type": "code",
      "source": [],
      "metadata": {
        "id": "zJ0HTK-YmJSf"
      },
      "execution_count": null,
      "outputs": []
    },
    {
      "cell_type": "code",
      "source": [],
      "metadata": {
        "id": "7xDJaHgjmJUy"
      },
      "execution_count": null,
      "outputs": []
    },
    {
      "cell_type": "code",
      "source": [],
      "metadata": {
        "id": "GLdchWKXmJXc"
      },
      "execution_count": null,
      "outputs": []
    },
    {
      "cell_type": "code",
      "source": [],
      "metadata": {
        "id": "lPUdQXmXmJaH"
      },
      "execution_count": null,
      "outputs": []
    },
    {
      "cell_type": "code",
      "source": [],
      "metadata": {
        "id": "rP5nikyAmJcx"
      },
      "execution_count": null,
      "outputs": []
    },
    {
      "cell_type": "code",
      "source": [],
      "metadata": {
        "id": "z893BjVGmJfL"
      },
      "execution_count": null,
      "outputs": []
    },
    {
      "cell_type": "code",
      "source": [],
      "metadata": {
        "id": "mbIi60K_mJin"
      },
      "execution_count": null,
      "outputs": []
    }
  ]
}